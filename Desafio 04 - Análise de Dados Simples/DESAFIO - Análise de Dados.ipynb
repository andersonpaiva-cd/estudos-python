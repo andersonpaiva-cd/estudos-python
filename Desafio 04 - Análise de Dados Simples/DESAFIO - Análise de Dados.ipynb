{
  "nbformat": 4,
  "nbformat_minor": 0,
  "metadata": {
    "colab": {
      "provenance": []
    },
    "kernelspec": {
      "name": "python3",
      "display_name": "Python 3"
    },
    "language_info": {
      "name": "python"
    }
  },
  "cells": [
    {
      "cell_type": "markdown",
      "source": [
        "# Desafio: Análise de Dados Simples\n",
        "\n",
        "Suponha que você tenha coletado dados de temperatura diária (em graus Celsius) durante uma semana. Sua tarefa é criar um programa que realize as seguintes operações:\n",
        "\n",
        "\n",
        "*   Solicitar ao usuário que insira as temperaturas diárias (7 temperaturas no total).\n",
        "*   Armazenar essas temperaturas em uma lista.\n",
        "*   Usar um loop for para calcular a temperatura média durante a semana.\n",
        "*   Usar a compreensão de lista para criar uma nova lista contendo as temperaturas em Fahrenheit (use a fórmula: Fahrenheit = Celsius * 9/5 + 32).\n",
        "*   Exibir as temperaturas em Celsius e Fahrenheit, bem como a temperatura média."
      ],
      "metadata": {
        "id": "0Wpla_7tGLAh"
      }
    },
    {
      "cell_type": "code",
      "execution_count": 7,
      "metadata": {
        "colab": {
          "base_uri": "https://localhost:8080/"
        },
        "id": "aRDsApZRGGfz",
        "outputId": "baceedfe-2cf9-4d95-dea4-c97691b2e935"
      },
      "outputs": [
        {
          "output_type": "stream",
          "name": "stdout",
          "text": [
            "Digite a temperatura do dia 1: 16\n",
            "Digite a temperatura do dia 2: 14\n",
            "Digite a temperatura do dia 3: 15\n",
            "Digite a temperatura do dia 4: 17\n",
            "Digite a temperatura do dia 5: 29\n",
            "Digite a temperatura do dia 6: 26\n",
            "Digite a temperatura do dia 7: 22\n",
            "A temperatura média foi de 19.86 graus Celsius, ou 67.74 graus Fahrenheit.\n"
          ]
        }
      ],
      "source": [
        "# Função que calcula a média da temperatura da semana, converte e informa a média em Graus Celsius e Fahrenheit\n",
        "def calculo_temperatura(temperaturas):\n",
        "    temperatura_media = sum(temperaturas) / len(temperaturas)\n",
        "    conversor_fahrenheit = temperatura_media * 9 / 5 + 32\n",
        "    print(f\"A temperatura média foi de {temperatura_media:.2f} graus Celsius, ou {conversor_fahrenheit:.2f} graus Fahrenheit.\")\n",
        "\n",
        "# Lista contendo as temperaturas informadas pelo usuário\n",
        "temperaturas = []\n",
        "\n",
        "# Loop que solicita uma entrada para o usuário\n",
        "for i in range(7):\n",
        "    temperatura = float(input(f\"Digite a temperatura do dia {i + 1}: \"))\n",
        "    temperaturas.append(temperatura)\n",
        "\n",
        "# Chamada da função que recebe os dados do usuário e realiza o cálculo\n",
        "calculo_temperatura(temperaturas)\n"
      ]
    }
  ]
}