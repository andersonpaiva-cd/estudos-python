{
  "nbformat": 4,
  "nbformat_minor": 0,
  "metadata": {
    "colab": {
      "provenance": []
    },
    "kernelspec": {
      "name": "python3",
      "display_name": "Python 3"
    },
    "language_info": {
      "name": "python"
    }
  },
  "cells": [
    {
      "cell_type": "markdown",
      "source": [
        "# **Desafio: Calculadora de Média**\n",
        "\n",
        "Crie um programa que solicite ao usuário três notas (entre 0 e 10) e calcule a média dessas notas. Em seguida, crie uma função chamada verificar_aprovacao(media) que recebe a média como argumento e retorna se o aluno foi aprovado (média maior ou igual a 6) ou reprovado (média abaixo de 6).\n",
        "\n",
        "\n",
        "\n",
        "---\n",
        "\n",
        "O objetivo desse desafio é exercitar os conceitos de criação de funções e estruturas condicionais em Python. Ele envolve a criação de uma função que realiza uma tarefa específica (verificar se um aluno foi aprovado ou reprovado) com base em um critério (média das notas).\n",
        "\n",
        "Ao enfrentar esse desafio, você terá a oportunidade de aplicar os conhecimentos adquiridos sobre como definir e usar funções, bem como como tomar decisões com base em condições. Isso também pode ajudar a reforçar sua compreensão de como os valores podem ser passados para funções como argumentos e como a função pode retornar um resultado.\n",
        "\n",
        "Além disso, ao resolver esse desafio, você ganhará prática na estruturação de um programa, dividindo-o em partes menores (funções) que desempenham papéis específicos. Isso reflete a abordagem modular e organizada que é fundamental na programação.\n"
      ],
      "metadata": {
        "id": "fAZEshfHvH4E"
      }
    },
    {
      "cell_type": "code",
      "execution_count": 10,
      "metadata": {
        "colab": {
          "base_uri": "https://localhost:8080/"
        },
        "id": "auePLMRxu6T3",
        "outputId": "01c438ab-6646-43dc-c437-07cae1ffe9bc"
      },
      "outputs": [
        {
          "output_type": "stream",
          "name": "stdout",
          "text": [
            "Digite a primeira nota:5\n",
            "Digite a segunda nota:1\n",
            "Digite a terceira nota:6\n",
            "O aluno foi aprovado com uma nota media de 8.0.\n"
          ]
        }
      ],
      "source": [
        "#Notas Aluno 01\n",
        "notasA = float(input(\"Digite a primeira nota:\"))\n",
        "notasB = float(input(\"Digite a segunda nota:\"))\n",
        "notasC = float(input(\"Digite a terceira nota:\"))\n",
        "\n",
        "#Calculo da media\n",
        "media = notasA + notasB + notasC / 3\n",
        "\n",
        "#Função que aprova ou não o aluno\n",
        "def verificar_aprovacao():\n",
        "  return media >= 7\n",
        "\n",
        "#Chamada da função\n",
        "try:\n",
        "  if verificar_aprovacao():\n",
        "    print(f\"O aluno foi aprovado com uma nota media de {media}.\")\n",
        "  else:\n",
        "    print(f\"O aluno recebeu uma media de {media} e foi reprovado.\")\n",
        "except ValueError:\n",
        "  print(\"Erro: uma das notas não é um número válido.\")"
      ]
    }
  ]
}