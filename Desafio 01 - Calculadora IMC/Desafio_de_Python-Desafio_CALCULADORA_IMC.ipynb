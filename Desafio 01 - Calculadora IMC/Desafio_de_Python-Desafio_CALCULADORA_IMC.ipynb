{
  "nbformat": 4,
  "nbformat_minor": 0,
  "metadata": {
    "colab": {
      "provenance": []
    },
    "kernelspec": {
      "name": "python3",
      "display_name": "Python 3"
    },
    "language_info": {
      "name": "python"
    }
  },
  "cells": [
    {
      "cell_type": "markdown",
      "source": [
        "# **Desafio: Calculadora de Índice de Massa Corporal (IMC)**\n",
        "\n",
        "O Índice de Massa Corporal (IMC) é uma medida que relaciona o peso e a altura de uma pessoa. Ele é calculado usando a fórmula: Peso dividido por altura ao quadrado.\n",
        "\n",
        "Onde o peso é medido em quilogramas e a altura em metros.\n",
        "\n",
        "---\n",
        "\n",
        "\n",
        "\n",
        "# **# Tarefa: Escreva um programa em Python que solicite ao usuário o seu peso e altura, e em seguida, calcule e exiba o seu IMC.**\n",
        "\n",
        "\n",
        "\n",
        "---\n",
        "\n",
        "\n",
        "***O objetivo de aprendizado do exercício proposto é ensinar aos alunos como utilizar conceitos básicos de programação em Python para criar um programa que realiza um cálculo matemático simples. Mais especificamente, o exercício abrange os seguintes conceitos e habilidades:\n",
        "\n",
        "Entrada de Dados: O programa deve ser capaz de solicitar ao usuário que insira seu peso e altura. Isso envolve o uso da função input() para receber dados do usuário.\n",
        "\n",
        "Variáveis e Atribuição: Os valores inseridos pelo usuário (peso e altura) devem ser armazenados em variáveis para serem usados posteriormente no cálculo.\n",
        "\n",
        "Cálculos Matemáticos: O programa deve implementar a fórmula do IMC, que envolve operações matemáticas como divisão e exponenciação (altura ao quadrado).\n",
        "\n",
        "Saída de Dados: O programa deve exibir o resultado do cálculo do IMC para o usuário. Isso é feito usando a função print().\n",
        "\n",
        "Controle de Fluxo: Embora o exercício não mencione explicitamente, uma boa prática é incluir algum tipo de verificação de entrada para garantir que os valores inseridos pelo usuário sejam numéricos e válidos.\n",
        "\n",
        "Manipulação de Strings: Pode ser útil formatar a saída do resultado do IMC para que seja apresentado de maneira compreensível, com uma mensagem explicativa.\n",
        "\n",
        "Prática de Sintaxe Python: A implementação do programa requer o uso correto da sintaxe Python, como declaração de variáveis, operadores matemáticos, chamadas de função e impressão de saída.\n",
        "\n",
        "Portanto, esse exercício ajuda os alunos a praticarem e entenderem esses conceitos básicos de programação, aplicando-os para resolver um problema real. Além disso, ao abordar um cálculo relacionado à saúde (IMC), o exercício também enfatiza a utilidade da programação em situações do mundo real.***"
      ],
      "metadata": {
        "id": "xST5XWWKa0GO"
      }
    },
    {
      "cell_type": "code",
      "source": [
        "#Solução para o Desafio\n",
        "#CALCULADORA DE IMC\n",
        "print(\"Olá! Bem-vindo à Calculadora de IMC. Para prosseguir, insira as informações solicitadas e pressione a tecla Enter no seu teclado.\")\n",
        "\n",
        "#Solicita o peso em Kg:\n",
        "peso = float(input(\"Digite seu peso em Kg (Exemplo: 75):\"))\n",
        "\n",
        "#Solicita a altura em metros:\n",
        "altura = float(input(\"Digite sua altura em metros(Exemplo: 1.65):\"))\n",
        "\n",
        "#Calculo de IMC:\n",
        "imc = peso / altura ** 2\n",
        "\n",
        "#Arredonda o resultado do IMC\n",
        "imc_arredondado = round(imc)\n",
        "\n",
        "#Exibe o Resultado\n",
        "print(f\"Seu IMC é de {imc_arredondado}\")\n",
        "\n",
        "#Verifica e informa o nível de IMC:\n",
        "if imc < 18.5:\n",
        "    print(\"Abaixo do peso\")\n",
        "elif 18.5 <= imc < 24.9:\n",
        "    print(\"Peso normal\")\n",
        "elif 25.0 <= imc < 29.9:\n",
        "    print(\"Sobrepeso\")\n",
        "elif 30.0 <= imc < 34.9:\n",
        "    print(\"Obesidade grau 1\")\n",
        "elif 35.0 <= imc < 39.9:\n",
        "    print(\"Obesidade grau 2\")\n",
        "else:\n",
        "    print(\"Obesidade grau 3 (obesidade mórbida)\")\n"
      ],
      "metadata": {
        "colab": {
          "base_uri": "https://localhost:8080/"
        },
        "id": "lPomgvxOb8lu",
        "outputId": "fa8c84e4-efff-46cd-9d94-583e1976d993"
      },
      "execution_count": null,
      "outputs": [
        {
          "output_type": "stream",
          "name": "stdout",
          "text": [
            "Olá! Bem-vindo à Calculadora de IMC. Para prosseguir, insira as informações solicitadas e pressione a tecla Enter no seu teclado.\n",
            "Digite seu peso em Kg (Exemplo: 75):69\n",
            "Digite sua altura em metros(Exemplo: 1.65):1.80\n",
            "Seu IMC é de 21\n",
            "Peso normal\n"
          ]
        }
      ]
    },
    {
      "cell_type": "code",
      "execution_count": null,
      "metadata": {
        "id": "G9FJV9nUanb_"
      },
      "outputs": [],
      "source": []
    }
  ]
}