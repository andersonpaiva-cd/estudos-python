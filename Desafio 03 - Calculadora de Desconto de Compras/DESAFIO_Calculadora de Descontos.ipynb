{
  "nbformat": 4,
  "nbformat_minor": 0,
  "metadata": {
    "colab": {
      "provenance": []
    },
    "kernelspec": {
      "name": "python3",
      "display_name": "Python 3"
    },
    "language_info": {
      "name": "python"
    }
  },
  "cells": [
    {
      "cell_type": "markdown",
      "source": [
        "# Desafio: Calculadora de Desconto de Compras\n",
        "\n",
        "Crie um programa que solicite ao usuário o valor total de uma compra e se o usuário possui um cupom de desconto válido. Com base nas informações fornecidas, calcule e exiba o valor total da compra após aplicar o desconto.\n",
        "\n",
        "---\n",
        "\n",
        "\n",
        "\n",
        "Regras:\n",
        "\n",
        "*   Se o valor da compra for maior ou igual a R$100 E o usuário tiver um cupom de desconto válido, aplique um desconto de 10%.\n",
        "*   Caso contrário, não aplique nenhum desconto.\n",
        "\n",
        "\n",
        "\n",
        "\n",
        "---\n",
        "\n",
        "Ao enfrentar esse desafio, você terá a oportunidade de:\n",
        "\n",
        "Praticar a criação de funções que realizam cálculos com base em diferentes condições.\n",
        "Utilizar valores booleanos e operadores lógicos para criar condições complexas.\n",
        "Desenvolver uma estrutura condicional que determina se um desconto será aplicado ou não.\n",
        "Aplicar o operador ternário para definir valores com base em condições.\n",
        "\n"
      ],
      "metadata": {
        "id": "STlAJfr2euEF"
      }
    },
    {
      "cell_type": "code",
      "execution_count": 23,
      "metadata": {
        "colab": {
          "base_uri": "https://localhost:8080/"
        },
        "id": "IBvwkyc-elSg",
        "outputId": "af9c2a2b-904f-4f83-cd41-cde300e1db38"
      },
      "outputs": [
        {
          "output_type": "stream",
          "name": "stdout",
          "text": [
            "Digite o valor da compra: 955\n",
            "Digite o cupom de desconto (Deixe em branco se não houver): \n",
            "Você tem direito a 10% de desconto.\n",
            "Total após desconto: R$859.50\n"
          ]
        }
      ],
      "source": [
        "# Função de verificação de desconto\n",
        "def calcular_desconto(valor_compra, desconto):\n",
        "    if len(desconto) == 0 and valor_compra <= 100:\n",
        "        print(\"Você não tem direito a um desconto.\")\n",
        "    else:\n",
        "        valor_descontado = valor_compra * 0.9  # Aplica 10% de desconto\n",
        "        print(f\"Você tem direito a 10% de desconto.\\nTotal após desconto: R${valor_descontado:.2f}\")\n",
        "\n",
        "# Solicita e armazena os dados do usuário\n",
        "valor_compra = float(input(\"Digite o valor da compra: \"))\n",
        "desconto = input(\"Digite o cupom de desconto (Deixe em branco se não houver): \")\n",
        "\n",
        "# Chama a função para verificar e calcular o desconto\n",
        "calcular_desconto(valor_compra, desconto)\n"
      ]
    }
  ]
}